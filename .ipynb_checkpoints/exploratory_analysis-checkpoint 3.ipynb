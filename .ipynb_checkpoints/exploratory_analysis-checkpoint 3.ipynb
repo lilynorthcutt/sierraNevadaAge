{
 "cells": [
  {
   "cell_type": "markdown",
   "id": "4ddd628c",
   "metadata": {},
   "source": [
    "# Exploratory Data Analysis"
   ]
  },
  {
   "cell_type": "markdown",
   "id": "c5c99e0f",
   "metadata": {},
   "source": [
    "## CSV File "
   ]
  },
  {
   "cell_type": "code",
   "execution_count": 1,
   "id": "c00bf0b8",
   "metadata": {},
   "outputs": [],
   "source": [
    "import pandas as pd\n"
   ]
  },
  {
   "cell_type": "code",
   "execution_count": 2,
   "id": "656309a8",
   "metadata": {},
   "outputs": [],
   "source": [
    "file_path = \"Data/attia_CentralSierraCretaceousIntrusionsGeochronologyData_forLily12082023.xlsx\"\n",
    "\n",
    "df_raw = pd.read_excel(file_path, sheet_name =  'CentralSierraNevada Rock Ages')"
   ]
  },
  {
   "cell_type": "code",
   "execution_count": 3,
   "id": "300f9fe7",
   "metadata": {},
   "outputs": [
    {
     "data": {
      "text/html": [
       "<div>\n",
       "<style scoped>\n",
       "    .dataframe tbody tr th:only-of-type {\n",
       "        vertical-align: middle;\n",
       "    }\n",
       "\n",
       "    .dataframe tbody tr th {\n",
       "        vertical-align: top;\n",
       "    }\n",
       "\n",
       "    .dataframe thead th {\n",
       "        text-align: right;\n",
       "    }\n",
       "</style>\n",
       "<table border=\"1\" class=\"dataframe\">\n",
       "  <thead>\n",
       "    <tr style=\"text-align: right;\">\n",
       "      <th></th>\n",
       "      <th>AnalysisName</th>\n",
       "      <th>OriginalName</th>\n",
       "      <th>Age</th>\n",
       "      <th>Uncertainty</th>\n",
       "      <th>Reference</th>\n",
       "      <th>Mineral</th>\n",
       "      <th>Method</th>\n",
       "      <th>RockType</th>\n",
       "      <th>Lithology</th>\n",
       "      <th>Unit</th>\n",
       "      <th>Group</th>\n",
       "      <th>Easting</th>\n",
       "      <th>Northing</th>\n",
       "      <th>Datum</th>\n",
       "      <th>DataComment</th>\n",
       "    </tr>\n",
       "  </thead>\n",
       "  <tbody>\n",
       "    <tr>\n",
       "      <th>0</th>\n",
       "      <td>EL16-525</td>\n",
       "      <td>NaN</td>\n",
       "      <td>96.1</td>\n",
       "      <td>0.8</td>\n",
       "      <td>Ardill et al., 2018</td>\n",
       "      <td>Zircon</td>\n",
       "      <td>spot analyses</td>\n",
       "      <td>Plutonic</td>\n",
       "      <td>granodiorite</td>\n",
       "      <td>Ellery Lake granodiorite</td>\n",
       "      <td>unassigned, Tioga Pass</td>\n",
       "      <td>304057</td>\n",
       "      <td>4200841</td>\n",
       "      <td>NAD27 11S</td>\n",
       "      <td>NaN</td>\n",
       "    </tr>\n",
       "    <tr>\n",
       "      <th>1</th>\n",
       "      <td>HH16-522</td>\n",
       "      <td>NaN</td>\n",
       "      <td>96.4</td>\n",
       "      <td>1.1</td>\n",
       "      <td>Ardill et al., 2018</td>\n",
       "      <td>Zircon</td>\n",
       "      <td>spot analyses</td>\n",
       "      <td>Plutonic</td>\n",
       "      <td>porphyritic granodiorite</td>\n",
       "      <td>porphyritic granodiorite of Lake Vernon</td>\n",
       "      <td>Jack Main Canyon intrusive suite</td>\n",
       "      <td>258103</td>\n",
       "      <td>4209586</td>\n",
       "      <td>NAD27 11S</td>\n",
       "      <td>NaN</td>\n",
       "    </tr>\n",
       "    <tr>\n",
       "      <th>2</th>\n",
       "      <td>TIOGA</td>\n",
       "      <td>NaN</td>\n",
       "      <td>101.0</td>\n",
       "      <td>1.5</td>\n",
       "      <td>Ardill et al., 2018</td>\n",
       "      <td>Zircon</td>\n",
       "      <td>spot analyses</td>\n",
       "      <td>Plutonic</td>\n",
       "      <td>monzodiorite</td>\n",
       "      <td>Tioga Lake monzodiorite</td>\n",
       "      <td>Tioga Pass hypabyssal complex</td>\n",
       "      <td>301629</td>\n",
       "      <td>4200112</td>\n",
       "      <td>NAD27 11S</td>\n",
       "      <td>NaN</td>\n",
       "    </tr>\n",
       "    <tr>\n",
       "      <th>3</th>\n",
       "      <td>GP-2</td>\n",
       "      <td>NaN</td>\n",
       "      <td>102.2</td>\n",
       "      <td>1.0</td>\n",
       "      <td>Ardill et al., 2018</td>\n",
       "      <td>Zircon</td>\n",
       "      <td>spot analyses</td>\n",
       "      <td>Plutonic</td>\n",
       "      <td>granodiorite</td>\n",
       "      <td>Illouette Creek granodiorite</td>\n",
       "      <td>Buena Vista Crest intrusive suite</td>\n",
       "      <td>269559</td>\n",
       "      <td>4172071</td>\n",
       "      <td>NAD27 11S</td>\n",
       "      <td>NaN</td>\n",
       "    </tr>\n",
       "    <tr>\n",
       "      <th>4</th>\n",
       "      <td>IMP39-A</td>\n",
       "      <td>NaN</td>\n",
       "      <td>104.2</td>\n",
       "      <td>1.2</td>\n",
       "      <td>Ardill et al., 2018</td>\n",
       "      <td>Zircon</td>\n",
       "      <td>spot analyses</td>\n",
       "      <td>Plutonic</td>\n",
       "      <td>Grizzly Peak porphyritic tonalite</td>\n",
       "      <td>granodiorite of Grizzly Creek</td>\n",
       "      <td>unassigned, Iron Mountain area</td>\n",
       "      <td>278808</td>\n",
       "      <td>4149668</td>\n",
       "      <td>NAD27 11S</td>\n",
       "      <td>NaN</td>\n",
       "    </tr>\n",
       "  </tbody>\n",
       "</table>\n",
       "</div>"
      ],
      "text/plain": [
       "  AnalysisName OriginalName    Age  Uncertainty            Reference Mineral  \\\n",
       "0     EL16-525          NaN   96.1          0.8  Ardill et al., 2018  Zircon   \n",
       "1     HH16-522          NaN   96.4          1.1  Ardill et al., 2018  Zircon   \n",
       "2        TIOGA          NaN  101.0          1.5  Ardill et al., 2018  Zircon   \n",
       "3         GP-2          NaN  102.2          1.0  Ardill et al., 2018  Zircon   \n",
       "4      IMP39-A          NaN  104.2          1.2  Ardill et al., 2018  Zircon   \n",
       "\n",
       "          Method  RockType                          Lithology  \\\n",
       "0  spot analyses  Plutonic                       granodiorite   \n",
       "1  spot analyses  Plutonic           porphyritic granodiorite   \n",
       "2  spot analyses  Plutonic                       monzodiorite   \n",
       "3  spot analyses  Plutonic                       granodiorite   \n",
       "4  spot analyses  Plutonic  Grizzly Peak porphyritic tonalite   \n",
       "\n",
       "                                      Unit                              Group  \\\n",
       "0                 Ellery Lake granodiorite             unassigned, Tioga Pass   \n",
       "1  porphyritic granodiorite of Lake Vernon   Jack Main Canyon intrusive suite   \n",
       "2                  Tioga Lake monzodiorite      Tioga Pass hypabyssal complex   \n",
       "3             Illouette Creek granodiorite  Buena Vista Crest intrusive suite   \n",
       "4            granodiorite of Grizzly Creek     unassigned, Iron Mountain area   \n",
       "\n",
       "  Easting Northing      Datum DataComment  \n",
       "0  304057  4200841  NAD27 11S         NaN  \n",
       "1  258103  4209586  NAD27 11S         NaN  \n",
       "2  301629  4200112  NAD27 11S         NaN  \n",
       "3  269559  4172071  NAD27 11S         NaN  \n",
       "4  278808  4149668  NAD27 11S         NaN  "
      ]
     },
     "execution_count": 3,
     "metadata": {},
     "output_type": "execute_result"
    }
   ],
   "source": [
    "df_raw.head()"
   ]
  },
  {
   "cell_type": "code",
   "execution_count": 4,
   "id": "3f67c460",
   "metadata": {},
   "outputs": [
    {
     "name": "stdout",
     "output_type": "stream",
     "text": [
      "<class 'pandas.core.frame.DataFrame'>\n",
      "RangeIndex: 217 entries, 0 to 216\n",
      "Data columns (total 15 columns):\n",
      " #   Column        Non-Null Count  Dtype  \n",
      "---  ------        --------------  -----  \n",
      " 0   AnalysisName  217 non-null    object \n",
      " 1   OriginalName  170 non-null    object \n",
      " 2   Age           217 non-null    float64\n",
      " 3   Uncertainty   217 non-null    float64\n",
      " 4   Reference     217 non-null    object \n",
      " 5   Mineral       217 non-null    object \n",
      " 6   Method        217 non-null    object \n",
      " 7   RockType      217 non-null    object \n",
      " 8   Lithology     217 non-null    object \n",
      " 9   Unit          217 non-null    object \n",
      " 10  Group         217 non-null    object \n",
      " 11  Easting       217 non-null    object \n",
      " 12  Northing      217 non-null    object \n",
      " 13  Datum         213 non-null    object \n",
      " 14  DataComment   70 non-null     object \n",
      "dtypes: float64(2), object(13)\n",
      "memory usage: 25.6+ KB\n"
     ]
    }
   ],
   "source": [
    "df_raw.info()"
   ]
  },
  {
   "cell_type": "code",
   "execution_count": 5,
   "id": "82734d2e",
   "metadata": {},
   "outputs": [
    {
     "data": {
      "text/html": [
       "<div>\n",
       "<style scoped>\n",
       "    .dataframe tbody tr th:only-of-type {\n",
       "        vertical-align: middle;\n",
       "    }\n",
       "\n",
       "    .dataframe tbody tr th {\n",
       "        vertical-align: top;\n",
       "    }\n",
       "\n",
       "    .dataframe thead th {\n",
       "        text-align: right;\n",
       "    }\n",
       "</style>\n",
       "<table border=\"1\" class=\"dataframe\">\n",
       "  <thead>\n",
       "    <tr style=\"text-align: right;\">\n",
       "      <th></th>\n",
       "      <th>Age</th>\n",
       "      <th>Uncertainty</th>\n",
       "    </tr>\n",
       "  </thead>\n",
       "  <tbody>\n",
       "    <tr>\n",
       "      <th>count</th>\n",
       "      <td>217.000000</td>\n",
       "      <td>217.000000</td>\n",
       "    </tr>\n",
       "    <tr>\n",
       "      <th>mean</th>\n",
       "      <td>99.905253</td>\n",
       "      <td>2.899585</td>\n",
       "    </tr>\n",
       "    <tr>\n",
       "      <th>std</th>\n",
       "      <td>10.255814</td>\n",
       "      <td>3.848287</td>\n",
       "    </tr>\n",
       "    <tr>\n",
       "      <th>min</th>\n",
       "      <td>83.500000</td>\n",
       "      <td>0.040000</td>\n",
       "    </tr>\n",
       "    <tr>\n",
       "      <th>25%</th>\n",
       "      <td>91.450000</td>\n",
       "      <td>0.400000</td>\n",
       "    </tr>\n",
       "    <tr>\n",
       "      <th>50%</th>\n",
       "      <td>97.000000</td>\n",
       "      <td>1.100000</td>\n",
       "    </tr>\n",
       "    <tr>\n",
       "      <th>75%</th>\n",
       "      <td>106.300000</td>\n",
       "      <td>2.500000</td>\n",
       "    </tr>\n",
       "    <tr>\n",
       "      <th>max</th>\n",
       "      <td>124.200000</td>\n",
       "      <td>12.000000</td>\n",
       "    </tr>\n",
       "  </tbody>\n",
       "</table>\n",
       "</div>"
      ],
      "text/plain": [
       "              Age  Uncertainty\n",
       "count  217.000000   217.000000\n",
       "mean    99.905253     2.899585\n",
       "std     10.255814     3.848287\n",
       "min     83.500000     0.040000\n",
       "25%     91.450000     0.400000\n",
       "50%     97.000000     1.100000\n",
       "75%    106.300000     2.500000\n",
       "max    124.200000    12.000000"
      ]
     },
     "execution_count": 5,
     "metadata": {},
     "output_type": "execute_result"
    }
   ],
   "source": [
    "df_raw.describe() #NOTE: easting and northing read in as strings b/c \"NA*\""
   ]
  },
  {
   "cell_type": "markdown",
   "id": "870a276b",
   "metadata": {},
   "source": [
    "## Data Cleaning\n",
    "Before we dive into visualizing the data, let's first clean it and handle missing data."
   ]
  },
  {
   "cell_type": "code",
   "execution_count": 6,
   "id": "9916c342",
   "metadata": {},
   "outputs": [
    {
     "data": {
      "text/plain": [
       "AnalysisName      0\n",
       "OriginalName     47\n",
       "Age               0\n",
       "Uncertainty       0\n",
       "Reference         0\n",
       "Mineral           0\n",
       "Method            0\n",
       "RockType          0\n",
       "Lithology         0\n",
       "Unit              0\n",
       "Group             0\n",
       "Easting           0\n",
       "Northing          0\n",
       "Datum             4\n",
       "DataComment     147\n",
       "dtype: int64"
      ]
     },
     "execution_count": 6,
     "metadata": {},
     "output_type": "execute_result"
    }
   ],
   "source": [
    "# Columns with missing data\n",
    "df_raw.isnull().sum()"
   ]
  },
  {
   "cell_type": "markdown",
   "id": "0f3b0a8f",
   "metadata": {},
   "source": [
    "The five columns with missing data are as follows:\n",
    "- __OriginalName:__ If OriginalName col is empty, then the OriginalName is the same as AnalysisName\n",
    "- __Easting:__ _(Not shown above)_ manual entries \"NA*\" input for missing values \n",
    "    - Not much can be done to get exact location, may use for some testing: \n",
    "        Predict age of entire area covered in paper, and take avgs => check if this avg age is similar to the age\n",
    "        given)\n",
    "- __Northing:__ _(Not shown above)_ manual entries \"NA*\" input for missing values\n",
    "    - Same note as above\n",
    "- __Datum:__ Missing for values we do not have a location -> nothing to be done to resolve\n",
    "- __DataComment:__ Not all rows need comments, acceptable to be NA, however will be creating boolean cols based on the notes further on in the notebook. \n",
    "\n",
    "After resolving issues with missing data, we will separate the rows missing necessary features (easting and northing) into a separate dataframe"
   ]
  },
  {
   "cell_type": "code",
   "execution_count": 7,
   "id": "7e4cc206",
   "metadata": {},
   "outputs": [
    {
     "data": {
      "text/plain": [
       "AnalysisName      0\n",
       "OriginalName      0\n",
       "Age               0\n",
       "Uncertainty       0\n",
       "Reference         0\n",
       "Mineral           0\n",
       "Method            0\n",
       "RockType          0\n",
       "Lithology         0\n",
       "Unit              0\n",
       "Group             0\n",
       "Easting           4\n",
       "Northing          4\n",
       "Datum             4\n",
       "DataComment     147\n",
       "dtype: int64"
      ]
     },
     "execution_count": 7,
     "metadata": {},
     "output_type": "execute_result"
    }
   ],
   "source": [
    "df_raw['OriginalName'] = df_raw['OriginalName'].fillna(df_raw['AnalysisName'])\n",
    "df_raw['Easting'] = pd.to_numeric(df_raw['Easting'].replace('NA*', pd.NA), errors = 'coerce')\n",
    "df_raw['Northing'] = pd.to_numeric(df_raw['Northing'].replace('NA*', pd.NA), errors = 'coerce')\n",
    "df_raw.isnull().sum()"
   ]
  },
  {
   "cell_type": "code",
   "execution_count": 8,
   "id": "439bb00f",
   "metadata": {},
   "outputs": [
    {
     "name": "stdout",
     "output_type": "stream",
     "text": [
      "Raw data size: (217, 15) \n",
      "Usable data size: (213, 15) \n",
      "Missing location size (4, 15)\n"
     ]
    }
   ],
   "source": [
    "invalid_df = df_raw[pd.isna(df_raw['Easting']) | pd.isna(df_raw['Northing'])].copy()\n",
    "df = df_raw[pd.notna(df_raw['Easting']) & pd.notna(df_raw['Northing'])].copy()\n",
    "\n",
    "print(f'Raw data size: {df_raw.shape} \\nUsable data size: {df.shape} \\nMissing location size {invalid_df.shape}')"
   ]
  },
  {
   "cell_type": "code",
   "execution_count": 9,
   "id": "f26a4215",
   "metadata": {},
   "outputs": [
    {
     "data": {
      "text/plain": [
       "0      False\n",
       "1      False\n",
       "2      False\n",
       "3      False\n",
       "4      False\n",
       "       ...  \n",
       "212    False\n",
       "213    False\n",
       "214    False\n",
       "215    False\n",
       "216    False\n",
       "Length: 213, dtype: bool"
      ]
     },
     "execution_count": 9,
     "metadata": {},
     "output_type": "execute_result"
    }
   ],
   "source": [
    "df.duplicated() #no duplicates"
   ]
  },
  {
   "cell_type": "markdown",
   "id": "29027c74",
   "metadata": {},
   "source": [
    "## Feature Engineering\n",
    "Let's __summarize the DataComments__ column with additional columns to help us represent issues or inconsistencies present within the data. \n",
    "\n",
    "We will also add additional columns such as __year published__, __longitude__, __latitude__, etc."
   ]
  },
  {
   "cell_type": "code",
   "execution_count": 10,
   "id": "8e6cdf30",
   "metadata": {},
   "outputs": [],
   "source": [
    "# Summarize data column by adding: estimated location, and estimated uncertainty\n",
    "location_estim_list = [\"location not given\", \"location is a total guess\", \"approximate location\"]\n",
    "pattern = '|'.join(location_estim_list)\n",
    "df['locationEstimated'] = df['DataComment'].str.contains(pattern, case = False, na = False)\n",
    "\n",
    "df['uncertaintyEstimated'] = df['DataComment'].str.contains('no error given', case = False, na = False)\n",
    "# df[df['uncertaintyEstimated'] == True]"
   ]
  },
  {
   "cell_type": "code",
   "execution_count": 11,
   "id": "eeb8a977",
   "metadata": {},
   "outputs": [],
   "source": [
    "# Add year published column, if not published make it current year\n",
    "df['year'] = df['Reference'].str.extract(r'(\\d+)', expand = False).fillna(2023).astype(int)\n",
    "#df[['Reference', 'year']]"
   ]
  },
  {
   "cell_type": "code",
   "execution_count": 12,
   "id": "e63e483c",
   "metadata": {},
   "outputs": [],
   "source": [
    "#!pip install utm"
   ]
  },
  {
   "cell_type": "code",
   "execution_count": 13,
   "id": "e25a4df2",
   "metadata": {},
   "outputs": [],
   "source": [
    "# Add lat and long\n",
    "import utm\n",
    "lat, long = utm.to_latlon(df['Easting'], df['Northing'], 11, 'S')\n",
    "df['lat'] = lat\n",
    "df['long'] = long"
   ]
  },
  {
   "cell_type": "markdown",
   "id": "ff0fd6eb",
   "metadata": {},
   "source": [
    "## Data Visualization"
   ]
  },
  {
   "cell_type": "code",
   "execution_count": 14,
   "id": "0c28ddca",
   "metadata": {},
   "outputs": [
    {
     "name": "stderr",
     "output_type": "stream",
     "text": [
      "/Users/lilynorthcutt/opt/anaconda3/lib/python3.8/site-packages/scipy/__init__.py:138: UserWarning: A NumPy version >=1.16.5 and <1.23.0 is required for this version of SciPy (detected version 1.24.4)\n",
      "  warnings.warn(f\"A NumPy version >={np_minversion} and <{np_maxversion} is required for this version of \"\n"
     ]
    }
   ],
   "source": [
    "import matplotlib.pyplot as plt\n",
    "import seaborn as sns"
   ]
  },
  {
   "cell_type": "code",
   "execution_count": 15,
   "id": "913fcde0",
   "metadata": {},
   "outputs": [
    {
     "data": {
      "image/png": "[encoded data removed]",
      "text/plain": [
       "<Figure size 432x288 with 1 Axes>"
      ]
     },
     "metadata": {
      "needs_background": "light"
     },
     "output_type": "display_data"
    }
   ],
   "source": [
    "import matplotlib.pyplot as plt\n",
    "plt.scatter(x=df['long'], y=df['lat'])\n",
    "plt.show()"
   ]
  },
  {
   "cell_type": "markdown",
   "id": "c67f7d65",
   "metadata": {},
   "source": [
    "## Shapefile Data"
   ]
  },
  {
   "cell_type": "code",
   "execution_count": 16,
   "id": "975854d5",
   "metadata": {},
   "outputs": [],
   "source": [
    "#!pip install geopandas"
   ]
  },
  {
   "cell_type": "code",
   "execution_count": 17,
   "id": "a3b47ea3",
   "metadata": {},
   "outputs": [],
   "source": [
    "import os\n",
    "import geopandas as gpd\n",
    "import matplotlib.pyplot as plt"
   ]
  },
  {
   "cell_type": "code",
   "execution_count": 18,
   "id": "59c1a48d",
   "metadata": {},
   "outputs": [],
   "source": [
    "def read_shapefiles_in_folder(folder_path):\n",
    "    shapefiles_dict = {}\n",
    "\n",
    "    # Check if the folder path exists\n",
    "    if not os.path.exists(folder_path):\n",
    "        raise FileNotFoundError(f\"The folder '{folder_path}' does not exist.\")\n",
    "\n",
    "    # Iterate through files in the folder\n",
    "    for filename in os.listdir(folder_path):\n",
    "        if filename.endswith(\".shp\"):\n",
    "            file_path = os.path.join(folder_path, filename)\n",
    "\n",
    "            # Extract file name without extension\n",
    "            file_name = os.path.splitext(filename)[0]\n",
    "\n",
    "            # Read shapefile into GeoDataFrame\n",
    "            gdf = gpd.read_file(file_path)\n",
    "\n",
    "            # Store GeoDataFrame in the dictionary\n",
    "            shapefiles_dict[file_name] = gdf\n",
    "\n",
    "    return shapefiles_dict"
   ]
  },
  {
   "cell_type": "code",
   "execution_count": 19,
   "id": "d344d404",
   "metadata": {},
   "outputs": [
    {
     "name": "stdout",
     "output_type": "stream",
     "text": [
      "File Name: CretaceousIntrusionsExtentPolygons\n",
      "File Name: DetailedMapDataAreaBoundaryLine\n"
     ]
    }
   ],
   "source": [
    "folder_path = 'Data/CentralSierraMapData_ForLily20231220'\n",
    "\n",
    "try:\n",
    "    # Read shapefiles into a dictionary\n",
    "    shapefiles_data = read_shapefiles_in_folder(folder_path)\n",
    "\n",
    "    # Access GeoDataFrames by file name\n",
    "    for file_name, gdf in shapefiles_data.items():\n",
    "        print(f\"File Name: {file_name}\")\n",
    "        #print(gdf.head())  # Display the first few rows of the GeoDataFrame\n",
    "\n",
    "except FileNotFoundError as e:\n",
    "    print(e)\n",
    "except Exception as e:\n",
    "    print(f\"An error occurred: {e}\")\n"
   ]
  },
  {
   "cell_type": "code",
   "execution_count": 20,
   "id": "3784c6d0",
   "metadata": {},
   "outputs": [
    {
     "data": {
      "text/plain": [
       "<Projected CRS: EPSG:26711>\n",
       "Name: NAD27 / UTM zone 11N\n",
       "Axis Info [cartesian]:\n",
       "- E[east]: Easting (metre)\n",
       "- N[north]: Northing (metre)\n",
       "Area of Use:\n",
       "- name: North America - between 120°W and 114°W - onshore. Canada - Alberta; British Columbia; Northwest Territories; Nunavut. Mexico. United States (USA) - California; Idaho; Nevada; Oregon; Washington.\n",
       "- bounds: (-120.0, 26.93, -114.0, 78.13)\n",
       "Coordinate Operation:\n",
       "- name: UTM zone 11N\n",
       "- method: Transverse Mercator\n",
       "Datum: North American Datum 1927\n",
       "- Ellipsoid: Clarke 1866\n",
       "- Prime Meridian: Greenwich"
      ]
     },
     "execution_count": 20,
     "metadata": {},
     "output_type": "execute_result"
    }
   ],
   "source": [
    "# Coordinate reference system\n",
    "gdf.crs"
   ]
  },
  {
   "cell_type": "code",
   "execution_count": 21,
   "id": "e2513416",
   "metadata": {},
   "outputs": [
    {
     "data": {
      "image/png": "[encoded data removed]",
      "text/plain": [
       "<Figure size 1080x360 with 2 Axes>"
      ]
     },
     "metadata": {
      "needs_background": "light"
     },
     "output_type": "display_data"
    }
   ],
   "source": [
    "# Plot the files individually\n",
    "fig, axes = plt.subplots(nrows=1, ncols=len(shapefiles_data), figsize=(15, 5))\n",
    "\n",
    "for i, (file_name, gdf) in enumerate(shapefiles_data.items()):\n",
    "    gdf.plot(ax=axes[i], alpha=0.5, edgecolor='k')\n",
    "    axes[i].set_title(file_name)\n",
    "\n",
    "plt.show()"
   ]
  },
  {
   "cell_type": "code",
   "execution_count": 22,
   "id": "b2bb6a9e",
   "metadata": {},
   "outputs": [
    {
     "name": "stderr",
     "output_type": "stream",
     "text": [
      "<ipython-input-22-f326944ee257>:9: UserWarning: Legend does not support handles for PatchCollection instances.\n",
      "See: https://matplotlib.org/stable/tutorials/intermediate/legend_guide.html#implementing-a-custom-legend-handler\n",
      "  ax.legend()\n"
     ]
    },
    {
     "data": {
      "image/png": "[encoded data removed]",
      "text/plain": [
       "<Figure size 720x720 with 1 Axes>"
      ]
     },
     "metadata": {
      "needs_background": "light"
     },
     "output_type": "display_data"
    }
   ],
   "source": [
    "# Plot them together\n",
    "fig, ax = plt.subplots(figsize=(10, 10))\n",
    "\n",
    "for file_name, gdf in shapefiles_data.items():\n",
    "    # Plot each GeoDataFrame on the same axis\n",
    "    gdf.plot(ax=ax, alpha=0.5, edgecolor='k', label=file_name)\n",
    "\n",
    "# Add legend\n",
    "ax.legend()\n",
    "\n",
    "# Show the plot\n",
    "plt.show()"
   ]
  },
  {
   "cell_type": "markdown",
   "id": "c14e371c",
   "metadata": {},
   "source": [
    "### Attributes of the shapefiles\n",
    "\n",
    "We are reading in 4 different shapefiles:\n",
    "- __Detailed Map Data Area Boundary Line -__ boundary of area\n",
    "\n",
    "- __Cretaceous Intrusions Individual Polygons -__ detailed shapefile that has all individually mapped units of Cretaceous intrusions\n",
    "\n",
    "- __Cretaceous Intrusions Extent Polygons -__ combined units from indiv polygon file s.t. any area of contiguous mapped Cretaceous intrusions becomes a single polygon\n",
    "\n",
    "- __Intrusive Suite Polygons -__ combined units from indiv polygon file s.t.any area of contiguous mapped Cretacoues intrusions that belong to the same intrusive suite becomes a single polygon"
   ]
  },
  {
   "cell_type": "code",
   "execution_count": null,
   "id": "25e44284",
   "metadata": {},
   "outputs": [],
   "source": []
  },
  {
   "cell_type": "code",
   "execution_count": 23,
   "id": "9fc07357",
   "metadata": {},
   "outputs": [
    {
     "name": "stdout",
     "output_type": "stream",
     "text": [
      "File: CretaceousIntrusionsExtentPolygons   Number of shapes: 189\n",
      "File: DetailedMapDataAreaBoundaryLine   Number of shapes: 1\n"
     ]
    }
   ],
   "source": [
    "# Number of shapes in each\n",
    "\n",
    "for file, gdf in shapefiles_data.items():\n",
    "    print(f\"File: {file}   Number of shapes: {len(gdf)}\")"
   ]
  },
  {
   "cell_type": "markdown",
   "id": "cade4106",
   "metadata": {},
   "source": [
    "Notes: _extent_ is \"more aggressive\" at combining than _suite_ as it resulted in fewer shapes"
   ]
  },
  {
   "cell_type": "code",
   "execution_count": 24,
   "id": "64fdc8f8",
   "metadata": {},
   "outputs": [
    {
     "ename": "KeyError",
     "evalue": "'CretaceousIntrusionsIndividualPolygons'",
     "output_type": "error",
     "traceback": [
      "\u001b[0;31m---------------------------------------------------------------------------\u001b[0m",
      "\u001b[0;31mKeyError\u001b[0m                                  Traceback (most recent call last)",
      "\u001b[0;32m<ipython-input-24-c4167f779b8b>\u001b[0m in \u001b[0;36m<module>\u001b[0;34m\u001b[0m\n\u001b[0;32m----> 1\u001b[0;31m \u001b[0mshapefiles_data\u001b[0m\u001b[0;34m[\u001b[0m\u001b[0;34m\"CretaceousIntrusionsIndividualPolygons\"\u001b[0m\u001b[0;34m]\u001b[0m\u001b[0;34m\u001b[0m\u001b[0;34m\u001b[0m\u001b[0m\n\u001b[0m",
      "\u001b[0;31mKeyError\u001b[0m: 'CretaceousIntrusionsIndividualPolygons'"
     ]
    }
   ],
   "source": [
    "shapefiles_data[\"CretaceousIntrusionsIndividualPolygons\"]"
   ]
  },
  {
   "cell_type": "code",
   "execution_count": null,
   "id": "39e9d1a7",
   "metadata": {},
   "outputs": [],
   "source": []
  },
  {
   "cell_type": "code",
   "execution_count": null,
   "id": "472be105",
   "metadata": {
    "scrolled": true
   },
   "outputs": [],
   "source": [
    "shapefiles_data[\"CretaceousIntrusionsExtentPolygons\"]"
   ]
  },
  {
   "cell_type": "code",
   "execution_count": null,
   "id": "3c8caaf1",
   "metadata": {},
   "outputs": [],
   "source": [
    "shapefiles_data[\"IntrusiveSuitePolygons\"]\n"
   ]
  },
  {
   "cell_type": "markdown",
   "id": "cbe2080d",
   "metadata": {},
   "source": [
    "### Individual polygons\n",
    "\n",
    "Lets take a look at CretaceousIntrusionsIndividualPolygons, as it has the most information"
   ]
  },
  {
   "cell_type": "code",
   "execution_count": null,
   "id": "2ed12959",
   "metadata": {},
   "outputs": [],
   "source": [
    "shapefiles_data[\"CretaceousIntrusionsIndividualPolygons\"]"
   ]
  },
  {
   "cell_type": "code",
   "execution_count": null,
   "id": "88c8d60d",
   "metadata": {},
   "outputs": [],
   "source": [
    "gdf = shapefiles_data[\"CretaceousIntrusionsIndividualPolygons\"]\n",
    "\n",
    "for column in gdf.columns:\n",
    "    print(f'Column {column}: {gdf[column].nunique()} unique vals')"
   ]
  },
  {
   "cell_type": "code",
   "execution_count": null,
   "id": "b222976a",
   "metadata": {},
   "outputs": [],
   "source": [
    "# Plot the files individually\n",
    "legend_criteria = \"IntSuite\"\n",
    "\n",
    "ax = gdf.plot(figsize=(10, 10), alpha=0.5, edgecolor='k',column=legend_criteria, cmap='viridis', legend=True)\n",
    "\n",
    "legend = ax.get_legend()\n",
    "legend.set_bbox_to_anchor((1.75, 1))\n",
    "legend.set_title(legend_criteria)\n",
    "\n",
    "\n",
    "ax.set_title(f'Individual Polygons')\n",
    "plt.show()"
   ]
  },
  {
   "cell_type": "code",
   "execution_count": null,
   "id": "ce1018cc",
   "metadata": {},
   "outputs": [],
   "source": [
    "# Plot the files individually\n",
    "legend_criteria = \"Age\"\n",
    "\n",
    "ax = gdf.plot(figsize=(10, 10), alpha=0.5, edgecolor='k',column=legend_criteria, cmap='viridis', legend=True)\n",
    "\n",
    "legend = ax.get_legend()\n",
    "legend.set_bbox_to_anchor((1.75, 1))\n",
    "legend.set_title(legend_criteria)\n",
    "\n",
    "\n",
    "ax.set_title(f'Individual Polygons')\n",
    "plt.show()"
   ]
  },
  {
   "cell_type": "code",
   "execution_count": null,
   "id": "ad0ee070",
   "metadata": {},
   "outputs": [],
   "source": [
    "# Look at Difference between Extent vs. Suite\n",
    "gdf_detailed = shapefiles_data[\"CretaceousIntrusionsIndividualPolygons\"]\n",
    "gdf_extent = shapefiles_data[\"CretaceousIntrusionsExtentPolygons\"]\n",
    "gdf_suite = shapefiles_data[\"IntrusiveSuitePolygons\"]\n",
    "\n",
    "\n",
    "fig, axes = plt.subplots(nrows=1, ncols=2, figsize=(15, 10))\n",
    "color_column = \"Age\"\n",
    "\n",
    "axes[0].set_title('Individual Polygons with Extent Boundaries')\n",
    "gdf_detailed.plot(ax=axes[0], alpha=0.5, edgecolor='k')\n",
    "gdf_extent.boundary.plot(ax=axes[0], color='red', linewidth=2) \n",
    "\n",
    "axes[1].set_title('Individual Polygons with Suite Boundaries')\n",
    "gdf_detailed.plot(ax=axes[1], alpha=0.5, edgecolor='k')\n",
    "gdf_suite.boundary.plot(ax=axes[1], color='Blue', linewidth=2) \n",
    "\n",
    "plt.show()"
   ]
  },
  {
   "cell_type": "markdown",
   "id": "7e37e635",
   "metadata": {},
   "source": [
    "# Putting them together\n",
    "\n",
    "Adding ages ontop of the shapefiles"
   ]
  },
  {
   "cell_type": "code",
   "execution_count": null,
   "id": "2aa716bc",
   "metadata": {},
   "outputs": [],
   "source": [
    "df"
   ]
  },
  {
   "cell_type": "code",
   "execution_count": null,
   "id": "d748ee6b",
   "metadata": {
    "scrolled": false
   },
   "outputs": [],
   "source": [
    "fig, ax = plt.subplots(figsize=(10, 10))\n",
    "gdf.plot(ax=ax, color='lightgray', edgecolor='black')\n",
    "\n",
    "sc = ax.scatter(df['Easting'], df['Northing'], c=df['Age'], cmap='viridis', label = \"Data Points\" )\n",
    "cbar = plt.colorbar(sc, ax=ax, label='Age')\n",
    "\n",
    "ax.legend()\n",
    "\n",
    "# Show the plot\n",
    "plt.show()"
   ]
  },
  {
   "cell_type": "markdown",
   "id": "15bc0e3f",
   "metadata": {},
   "source": [
    "# Interactive map\n",
    "\n",
    "Create an interactive map to look more in depth\n",
    "\n",
    "Helpful tutorial: https://autogis-site.readthedocs.io/en/latest/lessons/lesson-5/interactive-maps.html"
   ]
  },
  {
   "cell_type": "code",
   "execution_count": null,
   "id": "0282f967",
   "metadata": {},
   "outputs": [],
   "source": [
    "#shapefiles_data[\"DetailedMapDataAreaBoundaryLine_LL\"] = shapefiles_data[\"DetailedMapDataAreaBoundaryLine\"].to_crs('epsg:4482')"
   ]
  },
  {
   "cell_type": "code",
   "execution_count": null,
   "id": "87950c28",
   "metadata": {},
   "outputs": [],
   "source": [
    "#!pip install folium"
   ]
  },
  {
   "cell_type": "code",
   "execution_count": null,
   "id": "d4301fc6",
   "metadata": {
    "scrolled": false
   },
   "outputs": [],
   "source": [
    "import folium\n",
    "#Tile options: https://leaflet-extras.github.io/leaflet-providers/preview/\n",
    "\n",
    "tileOptions = [\"Stadia.StamenTerrain\", \"OpenTopoMap\", \"Stadia.AlidadeSmooth\",\n",
    "              \"Esri.WorldImagery\"]\n",
    "\n",
    "interactive_map = folium.Map(\n",
    "    location=(37.75, -119.8),\n",
    "    zoom_start=9.25,\n",
    "    control_scale=True,\n",
    "    tiles=tileOptions[3]\n",
    ")\n",
    "\n",
    "#boundary_layer = folium.Choropleth(\n",
    "#    geo_data=shapefiles_data[\"DetailedMapDataAreaBoundaryLine\"] ,\n",
    "#    data=shapefiles_data[\"DetailedMapDataAreaBoundaryLine\"] ,\n",
    "#    columns=('id', 'OBJECTID'),\n",
    "#    key_on='feature.id',\n",
    "#    line_weight = 4\n",
    "#)\n",
    "\n",
    "boundary_layer = folium.GeoJson(data=shapefiles_data[\"DetailedMapDataAreaBoundaryLine\"],\n",
    "                               style_function=lambda feature: {\n",
    "                                   \"color\": \"white\",\n",
    "                                   \"weight\": 5,\n",
    "                                   #\"dashArray\": \"5, 20\"\n",
    "                               })\n",
    "\n",
    "boundary_layer.add_to(interactive_map)\n",
    "\n",
    "interactive_map"
   ]
  },
  {
   "cell_type": "code",
   "execution_count": null,
   "id": "40f584e7",
   "metadata": {},
   "outputs": [],
   "source": [
    "# Make Age column numeric because folium having trouble ordering char\n",
    "#https://geopandas.org/en/stable/gallery/polygon_plotting_with_folium.html\n",
    "\n",
    "shapefiles_data[\"CretaceousIntrusionsIndividualPolygons\"].Age.unique()\n",
    "\n",
    "(shapefiles_data[\"CretaceousIntrusionsIndividualPolygons\"])[\"ageNum\"] = shapefiles_data[\"CretaceousIntrusionsIndividualPolygons\"].Age.apply(\n",
    "    lambda x: 121.5 if (x == 'eK' or x == 'eK?') else(82 if (x == 'lK' or x == 'lK?') else 175))\n"
   ]
  },
  {
   "cell_type": "code",
   "execution_count": null,
   "id": "ba66fdbe",
   "metadata": {
    "scrolled": false
   },
   "outputs": [],
   "source": [
    "# Add polygon layer (folium.Choropleth)\n",
    "\n",
    "# First add IDs for each polygon in each \n",
    "(shapefiles_data[\"DetailedMapDataAreaBoundaryLine\"])[\"id\"] = shapefiles_data[\"DetailedMapDataAreaBoundaryLine\"].index.astype(str)\n",
    "(shapefiles_data[\"CretaceousIntrusionsIndividualPolygons\"])[\"id\"] = shapefiles_data[\"CretaceousIntrusionsIndividualPolygons\"].index.astype(str)\n",
    "(shapefiles_data[\"CretaceousIntrusionsExtentPolygons\"])[\"id\"] = shapefiles_data[\"CretaceousIntrusionsExtentPolygons\"].index.astype(str)\n",
    "(shapefiles_data[\"IntrusiveSuitePolygons\"])[\"id\"] = shapefiles_data[\"IntrusiveSuitePolygons\"].index.astype(str)\n",
    "\n",
    "\n",
    "# Add a layer to interactive map\n",
    "tileOptions = [\"Stadia.StamenTerrain\", \"OpenTopoMap\", \"Stadia.AlidadeSmooth\",\n",
    "              \"Esri.WorldImagery\"]\n",
    "\n",
    "interactive_map = folium.Map(\n",
    "    location=(37.75, -119.8),\n",
    "    zoom_start=9.25,\n",
    "    control_scale=True,\n",
    "    tiles=tileOptions[0]\n",
    ")\n",
    "\n",
    "boundary_layer = folium.GeoJson(data=shapefiles_data[\"DetailedMapDataAreaBoundaryLine\"],\n",
    "                               style_function=lambda feature: {\n",
    "                                   \"color\": \"black\",\n",
    "                                   \"weight\": 5,\n",
    "                                   \"dashArray\": \"5, 20\"\n",
    "                               })\n",
    "\n",
    "boundary_layer.add_to(interactive_map)\n",
    "\n",
    "indivPoly_layer = folium.Choropleth(\n",
    "    geo_data=shapefiles_data[\"CretaceousIntrusionsIndividualPolygons\"] ,\n",
    "    data=shapefiles_data[\"CretaceousIntrusionsIndividualPolygons\"] ,\n",
    "    columns=('id', 'ageNum'),\n",
    "    key_on='feature.id', \n",
    "    bins = 3,\n",
    "    fill_color=\"YlOrRd\",\n",
    "    line_weight=2,\n",
    "    legend_name=\"Age (Ma)\"\n",
    ")\n",
    "\n",
    "indivPoly_layer.add_to(interactive_map)\n",
    "\n",
    "interactive_map"
   ]
  },
  {
   "cell_type": "code",
   "execution_count": null,
   "id": "ffc9de95",
   "metadata": {
    "scrolled": false
   },
   "outputs": [],
   "source": [
    "# Add Data points to the graph\n",
    "\n",
    "# Create POINTS() geometry of data points\n",
    "df = gpd.GeoDataFrame(df, geometry=gpd.points_from_xy(df.Easting, df.Northing), crs= 'epsg:26711')\n",
    "\n",
    "popup = folium.GeoJsonPopup(\n",
    "    fields=[\"Age\"],\n",
    "    aliases=[\"Age\"],\n",
    "    localize=True,\n",
    "    labels=True,\n",
    "    style=\"background-color: yellow;\",\n",
    ")\n",
    "\n",
    "datapoint_layer = folium.features.GeoJson(\n",
    "    df,\n",
    "    marker = folium.CircleMarker(radius = 3, # Radius in metres\n",
    "                                           weight = 8, #outline weight\n",
    "                                           fill_color = 'Red', \n",
    "                                           fill_opacity = 1),\n",
    "    name=\"Ages\",\n",
    "    popup=popup\n",
    ")\n",
    "\n",
    "datapoint_layer.add_to(interactive_map)\n",
    "\n",
    "interactive_map"
   ]
  },
  {
   "cell_type": "code",
   "execution_count": null,
   "id": "3d72f587",
   "metadata": {
    "scrolled": false
   },
   "outputs": [],
   "source": [
    "shapefiles_data[\"CretaceousIntrusionsIndividualPolygons\"].crs"
   ]
  },
  {
   "cell_type": "code",
   "execution_count": null,
   "id": "434bd480",
   "metadata": {},
   "outputs": [],
   "source": [
    "import branca.colormap as cm\n",
    "\n",
    "df.Age.min()\n",
    "\n",
    "\n",
    "cmap = cm.LinearColormap(['blue', 'red'],\n",
    "                         vmin=df.Age.min(), vmax=df.Age.max(),\n",
    "                         caption = \"Age (Ma)\")\n",
    "\n",
    "cmap"
   ]
  },
  {
   "cell_type": "code",
   "execution_count": null,
   "id": "76f61028",
   "metadata": {},
   "outputs": [],
   "source": [
    "\n",
    "interactive_map = folium.Map(\n",
    "    location=(37.75, -119.8),\n",
    "    zoom_start=9.25,\n",
    "    control_scale=True,\n",
    "    tiles=tileOptions[0]\n",
    ")\n",
    "\n",
    "boundary_layer = folium.GeoJson(data=shapefiles_data[\"DetailedMapDataAreaBoundaryLine\"],\n",
    "                               style_function=lambda feature: {\n",
    "                                   \"color\": \"black\",\n",
    "                                   \"weight\": 5,\n",
    "                                   \"dashArray\": \"5, 20\"\n",
    "                               })\n",
    "\n",
    "boundary_layer.add_to(interactive_map)\n",
    "\n",
    "\n",
    "\n",
    "\n",
    "\n",
    "\n",
    "datapoint_layer = folium.GeoJson(\n",
    "    df,\n",
    "    name=\"Age at location\",\n",
    "    marker=folium.Circle(radius=4, fill_color=\"orange\", fill_opacity=0.4, color=\"black\", weight=1),\n",
    "    tooltip=folium.GeoJsonTooltip(fields=[\"Age\"]),\n",
    "    popup=folium.GeoJsonPopup(fields=[\"Age\"]),\n",
    "    style_function=lambda x: {\n",
    "        \"fillColor\": colors[x['Age']]\n",
    "    },\n",
    "    highlight_function=lambda x: {\"fillOpacity\": 0.8},\n",
    "    zoom_on_click=True,\n",
    ")\n",
    "\n",
    "datapoint_layer.add_to(interactive_map)\n",
    "\n"
   ]
  },
  {
   "cell_type": "code",
   "execution_count": null,
   "id": "d026fac7",
   "metadata": {},
   "outputs": [],
   "source": []
  },
  {
   "cell_type": "code",
   "execution_count": null,
   "id": "479b0126",
   "metadata": {},
   "outputs": [],
   "source": [
    "# Make slider bar/play button animation of data points over time\n",
    "\n"
   ]
  },
  {
   "cell_type": "code",
   "execution_count": null,
   "id": "4fe5bbec",
   "metadata": {},
   "outputs": [],
   "source": []
  },
  {
   "cell_type": "code",
   "execution_count": null,
   "id": "6bee3073",
   "metadata": {},
   "outputs": [],
   "source": [
    "#interactive_map.save(\"Interactive Map.html\")"
   ]
  }
 ],
 "metadata": {
  "kernelspec": {
   "display_name": "Python 3",
   "language": "python",
   "name": "python3"
  },
  "language_info": {
   "codemirror_mode": {
    "name": "ipython",
    "version": 3
   },
   "file_extension": ".py",
   "mimetype": "text/x-python",
   "name": "python",
   "nbconvert_exporter": "python",
   "pygments_lexer": "ipython3",
   "version": "3.8.8"
  }
 },
 "nbformat": 4,
 "nbformat_minor": 5
}
