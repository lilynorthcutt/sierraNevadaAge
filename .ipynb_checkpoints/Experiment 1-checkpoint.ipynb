{
 "cells": [
  {
   "cell_type": "code",
   "execution_count": 4,
   "id": "f5442d1b",
   "metadata": {},
   "outputs": [],
   "source": [
    "import pandas as pd\n",
    "import os\n",
    "import geopandas as gpd\n",
    "import matplotlib.pyplot as plt\n",
    "from sklearn.model_selection import train_test_split \n",
    "from sklearn.tree import DecisionTreeRegressor \n",
    "from sklearn.metrics import r2_score \n",
    "from sklearn.preprocessing import StandardScaler\n",
    "from sklearn.linear_model import LinearRegression"
   ]
  },
  {
   "cell_type": "code",
   "execution_count": 5,
   "id": "68d70361",
   "metadata": {},
   "outputs": [],
   "source": [
    "import random\n",
    "\n",
    "random.seed(10)"
   ]
  },
  {
   "cell_type": "markdown",
   "id": "58c28faf",
   "metadata": {},
   "source": [
    "## Preprocessing"
   ]
  },
  {
   "cell_type": "code",
   "execution_count": 6,
   "id": "693e4194",
   "metadata": {},
   "outputs": [],
   "source": [
    "# Excel File"
   ]
  },
  {
   "cell_type": "code",
   "execution_count": 7,
   "id": "2f9ba0c9",
   "metadata": {},
   "outputs": [],
   "source": [
    "# Import \n",
    "file_path = \"Data/attia_CentralSierraCretaceousIntrusionsGeochronologyData_forLily12082023.xlsx\"\n",
    "\n",
    "df_raw = pd.read_excel(file_path, sheet_name =  'CentralSierraNevada Rock Ages')"
   ]
  },
  {
   "cell_type": "code",
   "execution_count": null,
   "id": "199fca70",
   "metadata": {},
   "outputs": [],
   "source": []
  },
  {
   "cell_type": "code",
   "execution_count": 8,
   "id": "120291d9",
   "metadata": {},
   "outputs": [],
   "source": [
    "### Clean Data ###\n",
    "df_raw['OriginalName'] = df_raw['OriginalName'].fillna(df_raw['AnalysisName'])\n",
    "df_raw['Easting'] = pd.to_numeric(df_raw['Easting'].replace('NA*', pd.NA), errors = 'coerce')\n",
    "df_raw['Northing'] = pd.to_numeric(df_raw['Northing'].replace('NA*', pd.NA), errors = 'coerce')\n",
    "invalid_df = df_raw[pd.isna(df_raw['Easting']) | pd.isna(df_raw['Northing'])].copy()\n",
    "df = df_raw[pd.notna(df_raw['Easting']) & pd.notna(df_raw['Northing'])].copy()\n"
   ]
  },
  {
   "cell_type": "code",
   "execution_count": 9,
   "id": "38e0c061",
   "metadata": {},
   "outputs": [],
   "source": [
    "### Add Features ###\n",
    "# Summarize data column by adding: estimated location, and estimated uncertainty\n",
    "location_estim_list = [\"location not given\", \"location is a total guess\", \"approximate location\"]\n",
    "pattern = '|'.join(location_estim_list)\n",
    "df['locationEstimated'] = df['DataComment'].str.contains(pattern, case = False, na = False)\n",
    "df['uncertaintyEstimated'] = df['DataComment'].str.contains('no error given', case = False, na = False)\n"
   ]
  },
  {
   "cell_type": "code",
   "execution_count": 10,
   "id": "73d71029",
   "metadata": {},
   "outputs": [
    {
     "data": {
      "text/html": [
       "<div>\n",
       "<style scoped>\n",
       "    .dataframe tbody tr th:only-of-type {\n",
       "        vertical-align: middle;\n",
       "    }\n",
       "\n",
       "    .dataframe tbody tr th {\n",
       "        vertical-align: top;\n",
       "    }\n",
       "\n",
       "    .dataframe thead th {\n",
       "        text-align: right;\n",
       "    }\n",
       "</style>\n",
       "<table border=\"1\" class=\"dataframe\">\n",
       "  <thead>\n",
       "    <tr style=\"text-align: right;\">\n",
       "      <th></th>\n",
       "      <th>AnalysisName</th>\n",
       "      <th>OriginalName</th>\n",
       "      <th>Age</th>\n",
       "      <th>Uncertainty</th>\n",
       "      <th>Reference</th>\n",
       "      <th>Mineral</th>\n",
       "      <th>Method</th>\n",
       "      <th>RockType</th>\n",
       "      <th>Lithology</th>\n",
       "      <th>Unit</th>\n",
       "      <th>Group</th>\n",
       "      <th>Easting</th>\n",
       "      <th>Northing</th>\n",
       "      <th>Datum</th>\n",
       "      <th>DataComment</th>\n",
       "      <th>locationEstimated</th>\n",
       "      <th>uncertaintyEstimated</th>\n",
       "    </tr>\n",
       "  </thead>\n",
       "  <tbody>\n",
       "    <tr>\n",
       "      <th>0</th>\n",
       "      <td>EL16-525</td>\n",
       "      <td>EL16-525</td>\n",
       "      <td>96.1</td>\n",
       "      <td>0.8</td>\n",
       "      <td>Ardill et al., 2018</td>\n",
       "      <td>Zircon</td>\n",
       "      <td>spot analyses</td>\n",
       "      <td>Plutonic</td>\n",
       "      <td>granodiorite</td>\n",
       "      <td>Ellery Lake granodiorite</td>\n",
       "      <td>unassigned, Tioga Pass</td>\n",
       "      <td>304057.0</td>\n",
       "      <td>4200841.0</td>\n",
       "      <td>NAD27 11S</td>\n",
       "      <td>NaN</td>\n",
       "      <td>False</td>\n",
       "      <td>False</td>\n",
       "    </tr>\n",
       "    <tr>\n",
       "      <th>1</th>\n",
       "      <td>HH16-522</td>\n",
       "      <td>HH16-522</td>\n",
       "      <td>96.4</td>\n",
       "      <td>1.1</td>\n",
       "      <td>Ardill et al., 2018</td>\n",
       "      <td>Zircon</td>\n",
       "      <td>spot analyses</td>\n",
       "      <td>Plutonic</td>\n",
       "      <td>porphyritic granodiorite</td>\n",
       "      <td>porphyritic granodiorite of Lake Vernon</td>\n",
       "      <td>Jack Main Canyon intrusive suite</td>\n",
       "      <td>258103.0</td>\n",
       "      <td>4209586.0</td>\n",
       "      <td>NAD27 11S</td>\n",
       "      <td>NaN</td>\n",
       "      <td>False</td>\n",
       "      <td>False</td>\n",
       "    </tr>\n",
       "    <tr>\n",
       "      <th>2</th>\n",
       "      <td>TIOGA</td>\n",
       "      <td>TIOGA</td>\n",
       "      <td>101.0</td>\n",
       "      <td>1.5</td>\n",
       "      <td>Ardill et al., 2018</td>\n",
       "      <td>Zircon</td>\n",
       "      <td>spot analyses</td>\n",
       "      <td>Plutonic</td>\n",
       "      <td>monzodiorite</td>\n",
       "      <td>Tioga Lake monzodiorite</td>\n",
       "      <td>Tioga Pass hypabyssal complex</td>\n",
       "      <td>301629.0</td>\n",
       "      <td>4200112.0</td>\n",
       "      <td>NAD27 11S</td>\n",
       "      <td>NaN</td>\n",
       "      <td>False</td>\n",
       "      <td>False</td>\n",
       "    </tr>\n",
       "    <tr>\n",
       "      <th>3</th>\n",
       "      <td>GP-2</td>\n",
       "      <td>GP-2</td>\n",
       "      <td>102.2</td>\n",
       "      <td>1.0</td>\n",
       "      <td>Ardill et al., 2018</td>\n",
       "      <td>Zircon</td>\n",
       "      <td>spot analyses</td>\n",
       "      <td>Plutonic</td>\n",
       "      <td>granodiorite</td>\n",
       "      <td>Illouette Creek granodiorite</td>\n",
       "      <td>Buena Vista Crest intrusive suite</td>\n",
       "      <td>269559.0</td>\n",
       "      <td>4172071.0</td>\n",
       "      <td>NAD27 11S</td>\n",
       "      <td>NaN</td>\n",
       "      <td>False</td>\n",
       "      <td>False</td>\n",
       "    </tr>\n",
       "    <tr>\n",
       "      <th>4</th>\n",
       "      <td>IMP39-A</td>\n",
       "      <td>IMP39-A</td>\n",
       "      <td>104.2</td>\n",
       "      <td>1.2</td>\n",
       "      <td>Ardill et al., 2018</td>\n",
       "      <td>Zircon</td>\n",
       "      <td>spot analyses</td>\n",
       "      <td>Plutonic</td>\n",
       "      <td>Grizzly Peak porphyritic tonalite</td>\n",
       "      <td>granodiorite of Grizzly Creek</td>\n",
       "      <td>unassigned, Iron Mountain area</td>\n",
       "      <td>278808.0</td>\n",
       "      <td>4149668.0</td>\n",
       "      <td>NAD27 11S</td>\n",
       "      <td>NaN</td>\n",
       "      <td>False</td>\n",
       "      <td>False</td>\n",
       "    </tr>\n",
       "  </tbody>\n",
       "</table>\n",
       "</div>"
      ],
      "text/plain": [
       "  AnalysisName OriginalName    Age  Uncertainty            Reference Mineral  \\\n",
       "0     EL16-525     EL16-525   96.1          0.8  Ardill et al., 2018  Zircon   \n",
       "1     HH16-522     HH16-522   96.4          1.1  Ardill et al., 2018  Zircon   \n",
       "2        TIOGA        TIOGA  101.0          1.5  Ardill et al., 2018  Zircon   \n",
       "3         GP-2         GP-2  102.2          1.0  Ardill et al., 2018  Zircon   \n",
       "4      IMP39-A      IMP39-A  104.2          1.2  Ardill et al., 2018  Zircon   \n",
       "\n",
       "          Method  RockType                          Lithology  \\\n",
       "0  spot analyses  Plutonic                       granodiorite   \n",
       "1  spot analyses  Plutonic           porphyritic granodiorite   \n",
       "2  spot analyses  Plutonic                       monzodiorite   \n",
       "3  spot analyses  Plutonic                       granodiorite   \n",
       "4  spot analyses  Plutonic  Grizzly Peak porphyritic tonalite   \n",
       "\n",
       "                                      Unit                              Group  \\\n",
       "0                 Ellery Lake granodiorite             unassigned, Tioga Pass   \n",
       "1  porphyritic granodiorite of Lake Vernon   Jack Main Canyon intrusive suite   \n",
       "2                  Tioga Lake monzodiorite      Tioga Pass hypabyssal complex   \n",
       "3             Illouette Creek granodiorite  Buena Vista Crest intrusive suite   \n",
       "4            granodiorite of Grizzly Creek     unassigned, Iron Mountain area   \n",
       "\n",
       "    Easting   Northing      Datum DataComment  locationEstimated  \\\n",
       "0  304057.0  4200841.0  NAD27 11S         NaN              False   \n",
       "1  258103.0  4209586.0  NAD27 11S         NaN              False   \n",
       "2  301629.0  4200112.0  NAD27 11S         NaN              False   \n",
       "3  269559.0  4172071.0  NAD27 11S         NaN              False   \n",
       "4  278808.0  4149668.0  NAD27 11S         NaN              False   \n",
       "\n",
       "   uncertaintyEstimated  \n",
       "0                 False  \n",
       "1                 False  \n",
       "2                 False  \n",
       "3                 False  \n",
       "4                 False  "
      ]
     },
     "execution_count": 10,
     "metadata": {},
     "output_type": "execute_result"
    }
   ],
   "source": [
    "df.head(5)"
   ]
  },
  {
   "cell_type": "code",
   "execution_count": 11,
   "id": "743e03d0",
   "metadata": {},
   "outputs": [],
   "source": [
    "# Shapefile Data"
   ]
  },
  {
   "cell_type": "code",
   "execution_count": 12,
   "id": "60073f71",
   "metadata": {},
   "outputs": [],
   "source": [
    "def read_shapefiles_in_folder(folder_path):\n",
    "    shapefiles_dict = {}\n",
    "\n",
    "    # Check if the folder path exists\n",
    "    if not os.path.exists(folder_path):\n",
    "        raise FileNotFoundError(f\"The folder '{folder_path}' does not exist.\")\n",
    "\n",
    "    # Iterate through files in the folder\n",
    "    for filename in os.listdir(folder_path):\n",
    "        if filename.endswith(\".shp\"):\n",
    "            file_path = os.path.join(folder_path, filename)\n",
    "\n",
    "            # Extract file name without extension\n",
    "            file_name = os.path.splitext(filename)[0]\n",
    "\n",
    "            # Read shapefile into GeoDataFrame\n",
    "            gdf = gpd.read_file(file_path)\n",
    "\n",
    "            # Store GeoDataFrame in the dictionary\n",
    "            shapefiles_dict[file_name] = gdf\n",
    "\n",
    "    return shapefiles_dict"
   ]
  },
  {
   "cell_type": "code",
   "execution_count": 13,
   "id": "226a1be0",
   "metadata": {},
   "outputs": [
    {
     "name": "stdout",
     "output_type": "stream",
     "text": [
      "File Name: CretaceousIntrusionsIndividualPolygons\n",
      "File Name: CretaceousIntrusionsExtentPolygons\n",
      "File Name: DetailedMapDataAreaBoundaryLine\n",
      "File Name: IntrusiveSuitePolygons\n"
     ]
    }
   ],
   "source": [
    "folder_path = 'Data/CentralSierraMapData_ForLily20231220'\n",
    "\n",
    "try:\n",
    "    # Read shapefiles into a dictionary\n",
    "    shapefiles_data = read_shapefiles_in_folder(folder_path)\n",
    "\n",
    "    # Access GeoDataFrames by file name\n",
    "    for file_name, gdf in shapefiles_data.items():\n",
    "        print(f\"File Name: {file_name}\")\n",
    "        #print(gdf.head())  # Display the first few rows of the GeoDataFrame\n",
    "\n",
    "except FileNotFoundError as e:\n",
    "    print(e)\n",
    "except Exception as e:\n",
    "    print(f\"An error occurred: {e}\")"
   ]
  },
  {
   "cell_type": "markdown",
   "id": "2f7e6d87",
   "metadata": {},
   "source": [
    "## Training"
   ]
  },
  {
   "cell_type": "code",
   "execution_count": 14,
   "id": "d2efb8ae",
   "metadata": {},
   "outputs": [],
   "source": [
    "X = df[['Easting', 'Northing']]\n",
    "y = df['Age']"
   ]
  },
  {
   "cell_type": "code",
   "execution_count": 15,
   "id": "7ea22195",
   "metadata": {},
   "outputs": [],
   "source": [
    "# using the train test split function \n",
    "X_train, X_test, y_train, y_test = train_test_split(X,y , \n",
    "                                   random_state=10,  \n",
    "                                   test_size=0.3,  \n",
    "                                   shuffle=True) "
   ]
  },
  {
   "cell_type": "code",
   "execution_count": null,
   "id": "a0a60dd8",
   "metadata": {},
   "outputs": [],
   "source": [
    "# Linear Regression\n",
    "#lr = LinearRegression()\n",
    "#lr.fit(X_train, y_train)\n",
    "\n",
    "#y_pred = lr.predict(X_test) \n",
    "\n",
    "#r2 = r2_score(y_test, y_pred)\n",
    "#print(r2)\n",
    "\n",
    "#plt.scatter(X_test.iloc[:,1], y_test, color='darkorange', \n",
    "            label='data') \n",
    "#plt.scatter(X_test.iloc[:,1], y_pred, color='cornflowerblue', \n",
    "         label='prediction') \n",
    "#plt.legend() \n",
    "#plt.show() "
   ]
  },
  {
   "cell_type": "code",
   "execution_count": 14,
   "id": "82dec7d5",
   "metadata": {},
   "outputs": [
    {
     "data": {
      "image/png": "[encoded data removed]",
      "text/plain": [
       "<Figure size 432x288 with 1 Axes>"
      ]
     },
     "metadata": {
      "needs_background": "light"
     },
     "output_type": "display_data"
    }
   ],
   "source": [
    "# Decision Tree\n",
    "regressor = DecisionTreeRegressor(random_state = 10)\n",
    "regressor.fit(X_train, y_train)\n",
    "\n",
    "y_pred = regressor.predict(X_test) \n",
    "\n",
    "r2 = r2_score(y_test, y_pred)\n",
    "r2\n",
    "\n",
    "plt.scatter(X_test.iloc[:,1], y_test, color='darkorange', \n",
    "            label='data') \n",
    "plt.scatter(X_test.iloc[:,1], y_pred, color='cornflowerblue', \n",
    "         label='prediction') \n",
    "plt.legend() \n",
    "plt.show() "
   ]
  },
  {
   "cell_type": "code",
   "execution_count": 15,
   "id": "773a0d80",
   "metadata": {},
   "outputs": [],
   "source": [
    "# SVM\n",
    "\n",
    "# Feature Scaling\n",
    "#svr = SVR(kernel='linear') \n",
    "#svr.fit(X_train, y_train) \n",
    "\n",
    "#y_pred = svr.predict(X_test) \n",
    "\n",
    "#r2 = r2_score(y_test, y_pred)\n",
    "#r2"
   ]
  },
  {
   "cell_type": "code",
   "execution_count": null,
   "id": "366893f3",
   "metadata": {},
   "outputs": [],
   "source": []
  }
 ],
 "metadata": {
  "kernelspec": {
   "display_name": "Python 3",
   "language": "python",
   "name": "python3"
  },
  "language_info": {
   "codemirror_mode": {
    "name": "ipython",
    "version": 3
   },
   "file_extension": ".py",
   "mimetype": "text/x-python",
   "name": "python",
   "nbconvert_exporter": "python",
   "pygments_lexer": "ipython3",
   "version": "3.8.8"
  }
 },
 "nbformat": 4,
 "nbformat_minor": 5
}
