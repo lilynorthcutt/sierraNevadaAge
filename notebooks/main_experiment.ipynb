{
 "cells": [
  {
   "metadata": {},
   "cell_type": "markdown",
   "source": "## Load Data",
   "id": "163dc0ee4c0e4dd3"
  },
  {
   "metadata": {},
   "cell_type": "code",
   "outputs": [],
   "execution_count": null,
   "source": [
    "import pandas as pd\n",
    "import os\n",
    "import utm\n",
    "import matplotlib.pyplot as plt\n",
    "import plotly.express as px"
   ],
   "id": "64d23458f3b5ad02"
  },
  {
   "metadata": {},
   "cell_type": "code",
   "outputs": [],
   "execution_count": null,
   "source": "# Read in CSV file",
   "id": "e03148367afb5470"
  },
  {
   "metadata": {},
   "cell_type": "code",
   "outputs": [],
   "execution_count": null,
   "source": "# Read in shapefiles",
   "id": "ee6d3ea0eaf87216"
  },
  {
   "metadata": {},
   "cell_type": "markdown",
   "source": "## Preprocessing",
   "id": "cc87614b8e314d59"
  },
  {
   "metadata": {},
   "cell_type": "markdown",
   "source": "### Clean/Wrangle Data",
   "id": "558f12a3b4ccf93a"
  },
  {
   "metadata": {},
   "cell_type": "code",
   "outputs": [],
   "execution_count": null,
   "source": "# Clean csv",
   "id": "5247bfcecd88f59"
  },
  {
   "metadata": {},
   "cell_type": "code",
   "outputs": [],
   "execution_count": null,
   "source": "# Clean shapefile",
   "id": "ac3aa8e878685890"
  },
  {
   "metadata": {},
   "cell_type": "markdown",
   "source": "### Feature Engineering",
   "id": "6a6a04eedb2ee66c"
  },
  {
   "metadata": {},
   "cell_type": "code",
   "outputs": [],
   "execution_count": null,
   "source": [
    "# csv\n",
    "# shapefile"
   ],
   "id": "54ebc1482474e67"
  },
  {
   "metadata": {},
   "cell_type": "code",
   "outputs": [],
   "execution_count": null,
   "source": "# Label each row in csv with each shape it falls into",
   "id": "df027d329a4579b5"
  },
  {
   "metadata": {},
   "cell_type": "markdown",
   "source": "### Prep data for modeling",
   "id": "818dadaca6b0b23e"
  },
  {
   "metadata": {
    "ExecuteTime": {
     "end_time": "2024-07-05T01:17:07.508005Z",
     "start_time": "2024-07-05T01:17:07.506186Z"
    }
   },
   "cell_type": "code",
   "source": "# Split data into test and train + cross validation",
   "id": "4a3a26474103057c",
   "outputs": [],
   "execution_count": 1
  },
  {
   "metadata": {},
   "cell_type": "markdown",
   "source": "## Models",
   "id": "b7d7189f92854aff"
  },
  {
   "metadata": {},
   "cell_type": "code",
   "outputs": [],
   "execution_count": null,
   "source": "# Model 1: ",
   "id": "c5291119b1704788"
  }
 ],
 "metadata": {
  "kernelspec": {
   "display_name": "Python 3",
   "language": "python",
   "name": "python3"
  },
  "language_info": {
   "codemirror_mode": {
    "name": "ipython",
    "version": 2
   },
   "file_extension": ".py",
   "mimetype": "text/x-python",
   "name": "python",
   "nbconvert_exporter": "python",
   "pygments_lexer": "ipython2",
   "version": "2.7.6"
  }
 },
 "nbformat": 4,
 "nbformat_minor": 5
}
